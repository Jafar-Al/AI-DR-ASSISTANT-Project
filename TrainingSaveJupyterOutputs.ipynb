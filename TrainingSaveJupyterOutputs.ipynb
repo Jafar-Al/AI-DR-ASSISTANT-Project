{
    "cells": [
        {
            "cell_type": "markdown",
            "id": "3cde9878",
            "metadata": {},
            "source": [
                "# **Run This After Finishing Training the Model**"
            ]
        },
        {
            "cell_type": "code",
            "execution_count": 1,
            "id": "e9a9152f",
            "metadata": {},
            "outputs": [
                {
                    "name": "stdout",
                    "output_type": "stream",
                    "text": [
                        "CPUs Available:  1\n",
                        "CPU Details:  [PhysicalDevice(name='/physical_device:CPU:0', device_type='CPU')]\n",
                        "No GPUs Available.\n"
                    ]
                }
            ],
            "source": [
                "import tensorflow as tf # type: ignore\n",
                "\n",
                "# Check CPU availability\n",
                "cpus = tf.config.list_physical_devices('CPU')\n",
                "if cpus:\n",
                "    print(\"CPUs Available: \", len(cpus))\n",
                "    print(\"CPU Details: \", cpus)\n",
                "else:\n",
                "    print(\"No CPUs Available.\")\n",
                "\n",
                "# Check GPU availability\n",
                "gpus = tf.config.list_physical_devices('GPU')\n",
                "if gpus:\n",
                "    print(\"GPUs Available: \", len(gpus))\n",
                "    print(\"GPU Details: \", gpus)\n",
                "else:\n",
                "    print(\"No GPUs Available.\")"
            ]
        },
        {
            "cell_type": "code",
            "execution_count": null,
            "id": "115772d0",
            "metadata": {},
            "outputs": [],
            "source": [
                "# Cell 1: Check if LaTeX is installed on your system\n",
                "import subprocess\n",
                "\n",
                "def check_latex_installation():\n",
                "    try:\n",
                "        # Try to run xelatex command\n",
                "        result = subprocess.run(['xelatex', '--version'], capture_output=True, text=True)\n",
                "        if result.returncode == 0:\n",
                "            print(\"LaTeX is installed!\")\n",
                "            print(result.stdout)\n",
                "        else:\n",
                "            print(\"LaTeX is not installed or not in your system PATH.\")\n",
                "            print(result.stderr)\n",
                "    except FileNotFoundError:\n",
                "        print(\"LaTeX is not installed on your system.\")\n",
                "        print(\"Please install LaTeX (e.g., MiKTeX or TeX Live).\")\n",
                "\n",
                "check_latex_installation()"
            ]
        },
        {
            "cell_type": "code",
            "execution_count": null,
            "id": "3a765ddf",
            "metadata": {},
            "outputs": [],
            "source": [
                "# Cell 2: Update nbconvert and related packages\n",
                "!pip install --upgrade nbconvert"
            ]
        },
        {
            "cell_type": "code",
            "execution_count": null,
            "id": "b8808f87",
            "metadata": {},
            "outputs": [],
            "source": [
                "# Cell 3: Check for the LaTeX log files if conversion fails\n",
                "import os\n",
                "\n",
                "def find_latex_logs(directory=\"C:\\\\Coding Projects\\\\Github Projects\\\\Intracranial-Tumor-Detector\\\\V1.2\\\\\"):\n",
                "    log_files = [f for f in os.listdir(directory) if f.endswith(\".log\")]\n",
                "    if log_files:\n",
                "        print(f\"Found LaTeX log files: {log_files}\")\n",
                "        for log_file in log_files:\n",
                "            with open(os.path.join(directory, log_file), 'r') as file:\n",
                "                print(f\"\\nContents of {log_file}:\")\n",
                "                print(file.read())\n",
                "    else:\n",
                "        print(\"No LaTeX log files found. Check the error message from the conversion attempt.\")\n",
                "\n",
                "find_latex_logs()"
            ]
        },
        {
            "cell_type": "code",
            "execution_count": null,
            "id": "8bc1c224",
            "metadata": {},
            "outputs": [],
            "source": [
                "# Cell 4: Try converting to HTML first, if PDF conversion fails with input and output variables\n",
                "input_notebook_path = \"File_to_Convert.ipynb\"\n",
                "output_html_path = \"Converted_Notebook.html\"\n",
                "\n",
                "!jupyter nbconvert --to html \"{input_notebook_path}\" --output \"{output_html_path}\"\n",
                "print(f\"Converted to HTML. You can open the HTML file: {output_html_path} and manually print it to PDF.\")"
            ]
        },
        {
            "cell_type": "code",
            "execution_count": null,
            "id": "1edde6eb",
            "metadata": {},
            "outputs": [],
            "source": [
                "# Cell 5: Suggest installing MiKTeX (Windows) or TeX Live (Linux/Mac) if LaTeX is not installed\n",
                "def suggest_latex_installation():\n",
                "    print(\"LaTeX is not installed on your system.\")\n",
                "    print(\"Please install one of the following LaTeX distributions:\")\n",
                "    print(\"1. MiKTeX for Windows: https://miktex.org/download\")\n",
                "    print(\"2. TeX Live for Linux/Mac: https://www.tug.org/texlive/\")\n",
                "    print(\"After installation, restart the Jupyter notebook and try again.\")\n",
                "\n",
                "suggest_latex_installation()"
            ]
        }
    ],
    "metadata": {
        "kernelspec": {
            "display_name": "base",
            "language": "python",
            "name": "python3"
        },
        "language_info": {
            "codemirror_mode": {
                "name": "ipython",
                "version": 3
            },
            "file_extension": ".py",
            "mimetype": "text/x-python",
            "name": "python",
            "nbconvert_exporter": "python",
            "pygments_lexer": "ipython3",
            "version": "3.12.7"
        }
    },
    "nbformat": 4,
    "nbformat_minor": 5
}
